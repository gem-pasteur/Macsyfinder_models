{
 "cells": [
  {
   "cell_type": "markdown",
   "metadata": {},
   "source": [
    "# Pipeline to delimit ICE"
   ]
  },
  {
   "cell_type": "markdown",
   "metadata": {},
   "source": [
    "In this notebook, we'll find ICE and delimit them in the Haemophilus influenzae species\n",
    "\n",
    "1. First we'll get the complete genome from NCBI\n",
    "3. We'll build the core genome\n",
    "2. We'll detect the conjugative system in the genomes\n",
    "4. We'll identify the core-genes flanking the conjugative system (defining a spot)\n",
    "5. We'll build the pan-genome of the spot\n",
    "6. We'll make a visual representation of the spot with gene family frequency to delimit the ICE."
   ]
  },
  {
   "cell_type": "markdown",
   "metadata": {},
   "source": [
    "<p><div class=\"lev1\"><a href=\"#Data\"><span class=\"toc-item-num\">2&nbsp;&nbsp;</span>Data</a></div><div class=\"lev2\"><a href=\"#Download-fasta-sequences\"><span class=\"toc-item-num\">2.1&nbsp;&nbsp;</span>Download fasta sequences</a></div><div class=\"lev2\"><a href=\"#Make-CDS-annotation-with-Prokka\"><span class=\"toc-item-num\">2.2&nbsp;&nbsp;</span>Make CDS annotation with Prokka</a></div><div class=\"lev1\"><a href=\"#Build-Core-genomes\"><span class=\"toc-item-num\">3&nbsp;&nbsp;</span>Build Core genomes</a></div><div class=\"lev1\"><a href=\"#Identification-of-Conjugative-systems\"><span class=\"toc-item-num\">4&nbsp;&nbsp;</span>Identification of Conjugative systems</a></div><div class=\"lev1\"><a href=\"#Identify-the-flanking-core-genes:-finding-a-spot\"><span class=\"toc-item-num\">5&nbsp;&nbsp;</span>Identify the flanking core genes: finding a spot</a></div><div class=\"lev1\"><a href=\"#Pan-Genome-of-the-spot\"><span class=\"toc-item-num\">6&nbsp;&nbsp;</span>Pan-Genome of the spot</a></div><div class=\"lev1\"><a href=\"#Format-data-to-plot\"><span class=\"toc-item-num\">7&nbsp;&nbsp;</span>Format data to plot</a></div><div class=\"lev2\"><a href=\"#Make-a-table-for-each-ICE\"><span class=\"toc-item-num\">7.1&nbsp;&nbsp;</span>Make a table for each ICE</a></div><div class=\"lev1\"><a href=\"#Plot-the-spot\"><span class=\"toc-item-num\">8&nbsp;&nbsp;</span>Plot the spot</a></div>"
   ]
  },
  {
   "cell_type": "markdown",
   "metadata": {},
   "source": [
    "Approximate time ot run this notebook: ~15-20 minutes.\n",
    "\n",
    "**NB**: The pipeline here works because the 3 ICEs we will found are in the same spot. But often, ICEs are found in different spots, and it implies to deal with that information to not mix everything."
   ]
  },
  {
   "cell_type": "markdown",
   "metadata": {},
   "source": [
    "# Data"
   ]
  },
  {
   "cell_type": "markdown",
   "metadata": {},
   "source": [
    "One needs to download the data, let's to it with python"
   ]
  },
  {
   "cell_type": "code",
   "execution_count": 2,
   "metadata": {
    "collapsed": true
   },
   "outputs": [],
   "source": [
    "mkdir Sequences"
   ]
  },
  {
   "cell_type": "code",
   "execution_count": 3,
   "metadata": {
    "collapsed": true
   },
   "outputs": [],
   "source": [
    "mkdir Sequences/Replicon"
   ]
  },
  {
   "cell_type": "markdown",
   "metadata": {},
   "source": [
    "## Download fasta sequences"
   ]
  },
  {
   "cell_type": "code",
   "execution_count": 4,
   "metadata": {
    "collapsed": true
   },
   "outputs": [],
   "source": [
    "from Bio import Entrez\n",
    "from Bio import SeqIO\n",
    "Entrez.email = \"me@my_institute.org\" #tells ncbi who you are."
   ]
  },
  {
   "cell_type": "markdown",
   "metadata": {},
   "source": [
    "I download the sequence from the NC number of 10 *Haemophilus influenzae*"
   ]
  },
  {
   "cell_type": "code",
   "execution_count": 5,
   "metadata": {
    "collapsed": false
   },
   "outputs": [],
   "source": [
    "for nc in [\"NC_000907\", \"NC_007146\", \"NC_009566\", \"NC_009567\", \"NC_014920\", \"NC_014922\", \"NC_016809\", \"NC_017452\", \"NC_017451\", \"NC_022356\"]:\n",
    "    handle = Entrez.esearch(db=\"nucleotide\", term=nc, rettype=\"gb\", retmode=\"text\")\n",
    "    record = Entrez.read(handle)\n",
    "    if len(record[\"IdList\"]) == 0: # if no hit in genbank\n",
    "        print nc\n",
    "    handle2 = Entrez.efetch(db=\"nucleotide\", id=record[\"IdList\"][0], rettype=\"fasta\", retmode=\"text\")\n",
    "    replicons = SeqIO.read(handle2, \"fasta\")\n",
    "    SeqIO.write(replicons,\n",
    "                \"Sequences/Replicon/\" + nc +\".fst\",\n",
    "                \"fasta\")"
   ]
  },
  {
   "cell_type": "code",
   "execution_count": 6,
   "metadata": {
    "collapsed": false
   },
   "outputs": [
    {
     "name": "stdout",
     "output_type": "stream",
     "text": [
      "   30504 Sequences/Replicon/NC_000907.fst\r\n",
      "   31910 Sequences/Replicon/NC_007146.fst\r\n",
      "   30219 Sequences/Replicon/NC_009566.fst\r\n",
      "   31455 Sequences/Replicon/NC_009567.fst\r\n",
      "   33099 Sequences/Replicon/NC_014920.fst\r\n",
      "   33452 Sequences/Replicon/NC_014922.fst\r\n",
      "   33027 Sequences/Replicon/NC_016809.fst\r\n",
      "   32207 Sequences/Replicon/NC_017451.fst\r\n",
      "   30324 Sequences/Replicon/NC_017452.fst\r\n",
      "   30938 Sequences/Replicon/NC_022356.fst\r\n",
      "  317135 total\r\n"
     ]
    }
   ],
   "source": [
    "!wc -l Sequences/Replicon/*"
   ]
  },
  {
   "cell_type": "markdown",
   "metadata": {},
   "source": [
    "## Make CDS annotation with Prokka"
   ]
  },
  {
   "cell_type": "markdown",
   "metadata": {},
   "source": [
    "[Prokka](https://github.com/tseemann/prokka)\n",
    "\n",
    "```bash\n",
    "$ brew tap homebrew/science\n",
    "$ brew update\n",
    "$ brew install prokka --HEAD\n",
    "```"
   ]
  },
  {
   "cell_type": "code",
   "execution_count": 7,
   "metadata": {
    "collapsed": true
   },
   "outputs": [],
   "source": [
    "mkdir Sequences/Annotations"
   ]
  },
  {
   "cell_type": "code",
   "execution_count": 8,
   "metadata": {
    "collapsed": false
   },
   "outputs": [
    {
     "name": "stdout",
     "output_type": "stream",
     "text": [
      "HAIN001\n",
      "HAIN002\n",
      "HAIN003\n",
      "HAIN004\n",
      "HAIN005\n",
      "HAIN006\n",
      "HAIN007\n",
      "HAIN008\n",
      "HAIN009\n",
      "HAIN010\n"
     ]
    }
   ],
   "source": [
    "%%bash\n",
    "i=1\n",
    "for nc in \"NC_000907\" \"NC_007146\" \"NC_009566\" \"NC_009567\" \"NC_014920\" \"NC_014922\" \"NC_016809\" \"NC_017452\" \"NC_017451\" \"NC_022356\"; do\n",
    "    printf -v j \"%03d\" $i\n",
    "    echo HAIN\"$j\"\n",
    "    prokka --kingdom Bacteria \\\n",
    "           --genus Haemophilus Sequences/Replicon/\"$nc\".fst \\\n",
    "           --outdir Sequences/Annotations/HAIN\"$j\" \\\n",
    "           --locustag HAIN\"$j\" \\\n",
    "           --prefix HAIN\"$j\" \\\n",
    "           --cpus 0 >> LOG_prokka 2>&1\n",
    "    i=$((i+1))\n",
    "done"
   ]
  },
  {
   "cell_type": "markdown",
   "metadata": {},
   "source": [
    "# Build Core genomes"
   ]
  },
  {
   "cell_type": "markdown",
   "metadata": {},
   "source": [
    "With [Roary](https://sanger-pathogens.github.io/Roary/)\n",
    "\n",
    "```bash\n",
    "$ brew tap homebrew/science\n",
    "$ brew install bedtools cd-hit blast mcl parallel prank mafft fasttree cpanm\n",
    "$ sudo cpanm -f Bio::Roary\n",
    "```\n",
    "\n",
    "Move all `.gff` files in the same folder so Roary can work with them"
   ]
  },
  {
   "cell_type": "code",
   "execution_count": 9,
   "metadata": {
    "collapsed": true
   },
   "outputs": [],
   "source": [
    "mkdir Sequences/GFF"
   ]
  },
  {
   "cell_type": "code",
   "execution_count": 10,
   "metadata": {
    "collapsed": true
   },
   "outputs": [],
   "source": [
    "!cp Sequences/Annotations/*/*gff Sequences/GFF/"
   ]
  },
  {
   "cell_type": "code",
   "execution_count": 11,
   "metadata": {
    "collapsed": true
   },
   "outputs": [],
   "source": [
    "mkdir Sequences/Pangenome"
   ]
  },
  {
   "cell_type": "code",
   "execution_count": 12,
   "metadata": {
    "collapsed": false
   },
   "outputs": [],
   "source": [
    "!roary -p 20 -f Sequences/Pangenome/ Sequences/GFF/*.gff > LOG_roary 2>&1"
   ]
  },
  {
   "cell_type": "markdown",
   "metadata": {},
   "source": [
    "Get core-genes\n",
    "\n",
    "**BEWARE** to change the random number generated by `roary` (here `_1494846018`)"
   ]
  },
  {
   "cell_type": "code",
   "execution_count": 39,
   "metadata": {
    "collapsed": false
   },
   "outputs": [],
   "source": [
    "!query_pan_genome -g Sequences/Pangenome/_1494846018/clustered_proteins -a intersection Sequences/GFF/*.gff"
   ]
  },
  {
   "cell_type": "code",
   "execution_count": 40,
   "metadata": {
    "collapsed": false
   },
   "outputs": [],
   "source": [
    "mv pan_genome_results core_genome.txt"
   ]
  },
  {
   "cell_type": "code",
   "execution_count": 41,
   "metadata": {
    "collapsed": false
   },
   "outputs": [
    {
     "name": "stdout",
     "output_type": "stream",
     "text": [
      "dsbD_1: HAIN001_00951\tHAIN002_01010\tHAIN003_01520\tHAIN004_01607\tHAIN005_01388\tHAIN006_00251\tHAIN007_01075\tHAIN008_01456\tHAIN009_01504\tHAIN010_00085\r\n",
      "trpE: HAIN001_01452\tHAIN002_01652\tHAIN003_00921\tHAIN004_00138\tHAIN005_00718\tHAIN006_01575\tHAIN007_01603\tHAIN008_00877\tHAIN009_01018\tHAIN010_01126\r\n",
      "proC: HAIN001_00336\tHAIN002_00410\tHAIN003_00297\tHAIN004_00874\tHAIN005_00256\tHAIN006_00978\tHAIN007_00452\tHAIN008_00275\tHAIN009_00263\tHAIN010_01776\r\n",
      "citC: HAIN001_00026\tHAIN002_00026\tHAIN003_00657\tHAIN004_00514\tHAIN005_00029\tHAIN006_00031\tHAIN007_00026\tHAIN008_00627\tHAIN009_00682\tHAIN010_01513\r\n",
      "rapZ: HAIN001_01212\tHAIN002_01244\tHAIN003_01268\tHAIN004_01875\tHAIN005_01115\tHAIN006_01908\tHAIN007_01349\tHAIN008_01214\tHAIN009_01261\tHAIN010_01473\r\n",
      "glpA: HAIN001_00741\tHAIN002_00778\tHAIN003_01753\tHAIN004_01350\tHAIN005_01672\tHAIN006_00598\tHAIN007_00865\tHAIN008_01679\tHAIN009_01804\tHAIN010_00410\r\n",
      "trkH: HAIN001_00778\tHAIN002_00817\tHAIN003_01704\tHAIN004_01390\tHAIN005_01639\tHAIN006_00570\tHAIN007_00906\tHAIN008_01634\tHAIN009_01765\tHAIN010_00179\r\n",
      "yjjW: HAIN001_00548\tHAIN002_00615\tHAIN003_00077\tHAIN004_01171\tHAIN005_01773\tHAIN006_00696\tHAIN007_00675\tHAIN008_00066\tHAIN009_00057\tHAIN010_00341\r\n",
      "mreC: HAIN001_00039\tHAIN002_00039\tHAIN003_00644\tHAIN004_00529\tHAIN005_00042\tHAIN006_00044\tHAIN007_00039\tHAIN008_00614\tHAIN009_00669\tHAIN010_01526\r\n",
      "malP: HAIN001_01424\tHAIN002_01682\tHAIN003_00891\tHAIN004_00091\tHAIN005_00691\tHAIN006_01604\tHAIN007_01577\tHAIN008_00850\tHAIN009_01045\tHAIN010_01143\r\n"
     ]
    }
   ],
   "source": [
    "!tail core_genome.txt"
   ]
  },
  {
   "cell_type": "code",
   "execution_count": 42,
   "metadata": {
    "collapsed": false
   },
   "outputs": [
    {
     "name": "stdout",
     "output_type": "stream",
     "text": [
      "    1082 core_genome.txt\r\n"
     ]
    }
   ],
   "source": [
    "!wc -l core_genome.txt"
   ]
  },
  {
   "cell_type": "markdown",
   "metadata": {},
   "source": [
    "Remove first columns"
   ]
  },
  {
   "cell_type": "code",
   "execution_count": 43,
   "metadata": {
    "collapsed": false
   },
   "outputs": [],
   "source": [
    "!awk -F\":\" '{print $2}' core_genome.txt > core_genome_2.txt"
   ]
  },
  {
   "cell_type": "markdown",
   "metadata": {},
   "source": [
    "# Identification of Conjugative systems"
   ]
  },
  {
   "cell_type": "markdown",
   "metadata": {},
   "source": [
    "I downloaded the [module CONJScan](https://minhaskamal.github.io/DownGit/#/home?url=https://github.com/gem-pasteur/Macsyfinder_models/tree/master/Data/Conjugation) with model and profiles for conjugative systems to use with macsyfinder. I put it under a Conjugation folder and rename it \"Models\""
   ]
  },
  {
   "cell_type": "code",
   "execution_count": 18,
   "metadata": {
    "collapsed": false
   },
   "outputs": [
    {
     "name": "stdout",
     "output_type": "stream",
     "text": [
      "mkdir: Conjugation: File exists\r\n"
     ]
    }
   ],
   "source": [
    "mkdir Conjugation"
   ]
  },
  {
   "cell_type": "code",
   "execution_count": 19,
   "metadata": {
    "collapsed": false
   },
   "outputs": [
    {
     "name": "stdout",
     "output_type": "stream",
     "text": [
      "\u001b[34mModels\u001b[m\u001b[m/\r\n"
     ]
    }
   ],
   "source": [
    "ls Conjugation/"
   ]
  },
  {
   "cell_type": "code",
   "execution_count": 20,
   "metadata": {
    "collapsed": false
   },
   "outputs": [],
   "source": [
    "%%bash\n",
    "for seq in Sequences/Annotations/*/*faa; do\n",
    "    name=${seq##*/}\n",
    "    for conj_type in typeF typeB typeC typeFATA typeFA typeG typeI typeT; do\n",
    "        macsyfinder \"$conj_type\" \\\n",
    "                    -w 20 \\\n",
    "                    --db-type ordered_replicon \\\n",
    "                    -d Conjugation/Models/DEF \\\n",
    "                    -p Conjugation/Models/HMM \\\n",
    "                    --profile-suffix .HMM \\\n",
    "                    --sequence-db \"$seq\" \\\n",
    "                    -o Conjugation/${name%%.*}\\_\"$conj_type\" >> /dev/null # stdout is already reported in output files from macsyfinder (macsyfinder.out)\n",
    "    done\n",
    "done"
   ]
  },
  {
   "cell_type": "code",
   "execution_count": 21,
   "metadata": {
    "collapsed": false
   },
   "outputs": [
    {
     "name": "stdout",
     "output_type": "stream",
     "text": [
      "       0       0       0 Conjugation/HAIN002_typeB/macsyfinder.report\r\n",
      "       0       0       0 Conjugation/HAIN002_typeC/macsyfinder.report\r\n",
      "       0       0       0 Conjugation/HAIN002_typeF/macsyfinder.report\r\n",
      "       0       0       0 Conjugation/HAIN002_typeFA/macsyfinder.report\r\n",
      "       0       0       0 Conjugation/HAIN002_typeFATA/macsyfinder.report\r\n",
      "      22     352    3057 Conjugation/HAIN002_typeG/macsyfinder.report\r\n",
      "       0       0       0 Conjugation/HAIN002_typeI/macsyfinder.report\r\n",
      "       0       0       0 Conjugation/HAIN002_typeT/macsyfinder.report\r\n",
      "       0       0       0 Conjugation/HAIN007_typeB/macsyfinder.report\r\n",
      "       0       0       0 Conjugation/HAIN007_typeC/macsyfinder.report\r\n",
      "       0       0       0 Conjugation/HAIN007_typeF/macsyfinder.report\r\n",
      "       0       0       0 Conjugation/HAIN007_typeFA/macsyfinder.report\r\n",
      "       0       0       0 Conjugation/HAIN007_typeFATA/macsyfinder.report\r\n",
      "      22     352    3056 Conjugation/HAIN007_typeG/macsyfinder.report\r\n",
      "       0       0       0 Conjugation/HAIN007_typeI/macsyfinder.report\r\n",
      "       0       0       0 Conjugation/HAIN007_typeT/macsyfinder.report\r\n",
      "       0       0       0 Conjugation/HAIN009_typeB/macsyfinder.report\r\n",
      "       0       0       0 Conjugation/HAIN009_typeC/macsyfinder.report\r\n",
      "       0       0       0 Conjugation/HAIN009_typeF/macsyfinder.report\r\n",
      "       0       0       0 Conjugation/HAIN009_typeFA/macsyfinder.report\r\n",
      "       0       0       0 Conjugation/HAIN009_typeFATA/macsyfinder.report\r\n",
      "      22     352    3059 Conjugation/HAIN009_typeG/macsyfinder.report\r\n",
      "       0       0       0 Conjugation/HAIN009_typeI/macsyfinder.report\r\n",
      "       0       0       0 Conjugation/HAIN009_typeT/macsyfinder.report\r\n",
      "      66    1056    9172 total\r\n"
     ]
    }
   ],
   "source": [
    "!wc Conjugation/*/macsyfinder.report"
   ]
  },
  {
   "cell_type": "markdown",
   "metadata": {},
   "source": [
    "We have 3 ICEs of type G in strain 2, 7 and 9"
   ]
  },
  {
   "cell_type": "code",
   "execution_count": 22,
   "metadata": {
    "collapsed": false
   },
   "outputs": [],
   "source": [
    "!awk 'NR==1||FNR>1' Conjugation/*/macsyfinder.report > Conj_results"
   ]
  },
  {
   "cell_type": "markdown",
   "metadata": {},
   "source": [
    "# Identify the flanking core genes: finding a spot"
   ]
  },
  {
   "cell_type": "code",
   "execution_count": 23,
   "metadata": {
    "collapsed": true
   },
   "outputs": [],
   "source": [
    "import pandas as pd\n",
    "import numpy as np"
   ]
  },
  {
   "cell_type": "code",
   "execution_count": 24,
   "metadata": {
    "collapsed": true
   },
   "outputs": [],
   "source": [
    "conj = pd.read_table(\"Conj_results\")"
   ]
  },
  {
   "cell_type": "code",
   "execution_count": 44,
   "metadata": {
    "collapsed": false
   },
   "outputs": [],
   "source": [
    "core = pd.read_table(\"core_genome_2.txt\", header=None, names=[\"HAIN{:03d}\".format(i) for i in range(1,11)])"
   ]
  },
  {
   "cell_type": "markdown",
   "metadata": {},
   "source": [
    "Reformat Macsyfinder output, replace UserReplicon by the name of the replicon. (I may have missed an option)"
   ]
  },
  {
   "cell_type": "code",
   "execution_count": 45,
   "metadata": {
    "collapsed": true
   },
   "outputs": [],
   "source": [
    "conj[\"Replicon_name\"] = conj[\"#Hit_Id\"].apply(lambda x: x[:7])"
   ]
  },
  {
   "cell_type": "code",
   "execution_count": 46,
   "metadata": {
    "collapsed": false
   },
   "outputs": [],
   "source": [
    "conj.System_Id.replace(\"UserReplicon\", conj.Replicon_name, regex=True, inplace=1)"
   ]
  },
  {
   "cell_type": "code",
   "execution_count": 47,
   "metadata": {
    "collapsed": false
   },
   "outputs": [
    {
     "data": {
      "text/html": [
       "<div>\n",
       "<table border=\"1\" class=\"dataframe\">\n",
       "  <thead>\n",
       "    <tr style=\"text-align: right;\">\n",
       "      <th></th>\n",
       "      <th>#Hit_Id</th>\n",
       "      <th>Replicon_name</th>\n",
       "      <th>Position</th>\n",
       "      <th>Sequence_length</th>\n",
       "      <th>Gene</th>\n",
       "      <th>Reference_system</th>\n",
       "      <th>Predicted_system</th>\n",
       "      <th>System_Id</th>\n",
       "      <th>System_status</th>\n",
       "      <th>Gene_status</th>\n",
       "      <th>i-evalue</th>\n",
       "      <th>Score</th>\n",
       "      <th>Profile_coverage</th>\n",
       "      <th>Sequence_coverage</th>\n",
       "      <th>Begin_match</th>\n",
       "      <th>End_match</th>\n",
       "    </tr>\n",
       "  </thead>\n",
       "  <tbody>\n",
       "    <tr>\n",
       "      <th>0</th>\n",
       "      <td>HAIN002_00111</td>\n",
       "      <td>HAIN002</td>\n",
       "      <td>107</td>\n",
       "      <td>209</td>\n",
       "      <td>G_tfc2</td>\n",
       "      <td>typeG</td>\n",
       "      <td>typeG</td>\n",
       "      <td>HAIN002_typeG_1</td>\n",
       "      <td>single_locus</td>\n",
       "      <td>accessory</td>\n",
       "      <td>2.600000e-60</td>\n",
       "      <td>200.1</td>\n",
       "      <td>0.920792</td>\n",
       "      <td>0.990431</td>\n",
       "      <td>2</td>\n",
       "      <td>208</td>\n",
       "    </tr>\n",
       "    <tr>\n",
       "      <th>1</th>\n",
       "      <td>HAIN002_00112</td>\n",
       "      <td>HAIN002</td>\n",
       "      <td>108</td>\n",
       "      <td>246</td>\n",
       "      <td>G_tfc3</td>\n",
       "      <td>typeG</td>\n",
       "      <td>typeG</td>\n",
       "      <td>HAIN002_typeG_1</td>\n",
       "      <td>single_locus</td>\n",
       "      <td>accessory</td>\n",
       "      <td>5.800000e-88</td>\n",
       "      <td>290.7</td>\n",
       "      <td>0.975000</td>\n",
       "      <td>0.971545</td>\n",
       "      <td>7</td>\n",
       "      <td>245</td>\n",
       "    </tr>\n",
       "    <tr>\n",
       "      <th>2</th>\n",
       "      <td>HAIN002_00114</td>\n",
       "      <td>HAIN002</td>\n",
       "      <td>110</td>\n",
       "      <td>168</td>\n",
       "      <td>G_tfc5</td>\n",
       "      <td>typeG</td>\n",
       "      <td>typeG</td>\n",
       "      <td>HAIN002_typeG_1</td>\n",
       "      <td>single_locus</td>\n",
       "      <td>accessory</td>\n",
       "      <td>6.600000e-56</td>\n",
       "      <td>185.4</td>\n",
       "      <td>0.982558</td>\n",
       "      <td>0.994048</td>\n",
       "      <td>2</td>\n",
       "      <td>168</td>\n",
       "    </tr>\n",
       "    <tr>\n",
       "      <th>3</th>\n",
       "      <td>HAIN002_00115</td>\n",
       "      <td>HAIN002</td>\n",
       "      <td>111</td>\n",
       "      <td>749</td>\n",
       "      <td>t4cp2</td>\n",
       "      <td>CONJ</td>\n",
       "      <td>typeG</td>\n",
       "      <td>HAIN002_typeG_1</td>\n",
       "      <td>single_locus</td>\n",
       "      <td>mandatory</td>\n",
       "      <td>6.000000e-35</td>\n",
       "      <td>117.3</td>\n",
       "      <td>0.990991</td>\n",
       "      <td>0.329773</td>\n",
       "      <td>404</td>\n",
       "      <td>650</td>\n",
       "    </tr>\n",
       "    <tr>\n",
       "      <th>4</th>\n",
       "      <td>HAIN002_00117</td>\n",
       "      <td>HAIN002</td>\n",
       "      <td>113</td>\n",
       "      <td>228</td>\n",
       "      <td>G_tfc7</td>\n",
       "      <td>typeG</td>\n",
       "      <td>typeG</td>\n",
       "      <td>HAIN002_typeG_1</td>\n",
       "      <td>single_locus</td>\n",
       "      <td>accessory</td>\n",
       "      <td>8.400000e-85</td>\n",
       "      <td>281.1</td>\n",
       "      <td>0.971888</td>\n",
       "      <td>0.991228</td>\n",
       "      <td>3</td>\n",
       "      <td>228</td>\n",
       "    </tr>\n",
       "  </tbody>\n",
       "</table>\n",
       "</div>"
      ],
      "text/plain": [
       "         #Hit_Id Replicon_name  Position  Sequence_length    Gene  \\\n",
       "0  HAIN002_00111       HAIN002       107              209  G_tfc2   \n",
       "1  HAIN002_00112       HAIN002       108              246  G_tfc3   \n",
       "2  HAIN002_00114       HAIN002       110              168  G_tfc5   \n",
       "3  HAIN002_00115       HAIN002       111              749   t4cp2   \n",
       "4  HAIN002_00117       HAIN002       113              228  G_tfc7   \n",
       "\n",
       "  Reference_system Predicted_system        System_Id System_status  \\\n",
       "0            typeG            typeG  HAIN002_typeG_1  single_locus   \n",
       "1            typeG            typeG  HAIN002_typeG_1  single_locus   \n",
       "2            typeG            typeG  HAIN002_typeG_1  single_locus   \n",
       "3             CONJ            typeG  HAIN002_typeG_1  single_locus   \n",
       "4            typeG            typeG  HAIN002_typeG_1  single_locus   \n",
       "\n",
       "  Gene_status      i-evalue  Score  Profile_coverage  Sequence_coverage  \\\n",
       "0   accessory  2.600000e-60  200.1          0.920792           0.990431   \n",
       "1   accessory  5.800000e-88  290.7          0.975000           0.971545   \n",
       "2   accessory  6.600000e-56  185.4          0.982558           0.994048   \n",
       "3   mandatory  6.000000e-35  117.3          0.990991           0.329773   \n",
       "4   accessory  8.400000e-85  281.1          0.971888           0.991228   \n",
       "\n",
       "   Begin_match  End_match  \n",
       "0            2        208  \n",
       "1            7        245  \n",
       "2            2        168  \n",
       "3          404        650  \n",
       "4            3        228  "
      ]
     },
     "execution_count": 47,
     "metadata": {},
     "output_type": "execute_result"
    }
   ],
   "source": [
    "conj.head()"
   ]
  },
  {
   "cell_type": "markdown",
   "metadata": {},
   "source": [
    "To identify the flanking core genes, I sort the column in the table `core` corresponding to the genome where I have an ICE, and find the index where I would insert any genes of that ICE"
   ]
  },
  {
   "cell_type": "code",
   "execution_count": 48,
   "metadata": {
    "collapsed": false
   },
   "outputs": [],
   "source": [
    "flanking_core = {}\n",
    "for ice in conj.groupby(\"System_Id\"):\n",
    "    data = ice[1]\n",
    "    replicon = data.Replicon_name.unique()[0]\n",
    "    core.sort_values(replicon, inplace=1)\n",
    "    spots = np.unique([core[replicon].searchsorted(gene)[0] for gene in data[\"#Hit_Id\"]])\n",
    "    assert len(spots)==1 # make sure that all genes of the conjugative system insert at the same spot\n",
    "    flanking_core[ice[0]] = core.iloc[spots[0]-1:spots[0]+1].index\n",
    "    "
   ]
  },
  {
   "cell_type": "code",
   "execution_count": 50,
   "metadata": {
    "collapsed": true
   },
   "outputs": [],
   "source": [
    "core.sort_index(inplace=1) # reset the order of the table "
   ]
  },
  {
   "cell_type": "code",
   "execution_count": 51,
   "metadata": {
    "collapsed": false
   },
   "outputs": [
    {
     "data": {
      "text/plain": [
       "{'HAIN002_typeG_1': Int64Index([221, 783], dtype='int64'),\n",
       " 'HAIN007_typeG_1': Int64Index([221, 783], dtype='int64'),\n",
       " 'HAIN009_typeG_1': Int64Index([783, 221], dtype='int64')}"
      ]
     },
     "execution_count": 51,
     "metadata": {},
     "output_type": "execute_result"
    }
   ],
   "source": [
    "flanking_core"
   ]
  },
  {
   "cell_type": "code",
   "execution_count": 52,
   "metadata": {
    "collapsed": false
   },
   "outputs": [],
   "source": [
    "flanking_core_ID = core.loc[flanking_core.values()[0]]"
   ]
  },
  {
   "cell_type": "code",
   "execution_count": 56,
   "metadata": {
    "collapsed": false
   },
   "outputs": [
    {
     "data": {
      "text/html": [
       "<div>\n",
       "<table border=\"1\" class=\"dataframe\">\n",
       "  <thead>\n",
       "    <tr style=\"text-align: right;\">\n",
       "      <th></th>\n",
       "      <th>HAIN001</th>\n",
       "      <th>HAIN002</th>\n",
       "      <th>HAIN003</th>\n",
       "      <th>HAIN004</th>\n",
       "      <th>HAIN005</th>\n",
       "      <th>HAIN006</th>\n",
       "      <th>HAIN007</th>\n",
       "      <th>HAIN008</th>\n",
       "      <th>HAIN009</th>\n",
       "      <th>HAIN010</th>\n",
       "    </tr>\n",
       "  </thead>\n",
       "  <tbody>\n",
       "    <tr>\n",
       "      <th>221</th>\n",
       "      <td>HAIN001_00088</td>\n",
       "      <td>HAIN002_00089</td>\n",
       "      <td>HAIN003_00595</td>\n",
       "      <td>HAIN004_00583</td>\n",
       "      <td>HAIN005_00080</td>\n",
       "      <td>HAIN006_00083</td>\n",
       "      <td>HAIN007_00079</td>\n",
       "      <td>HAIN008_00566</td>\n",
       "      <td>HAIN009_00619</td>\n",
       "      <td>HAIN010_00854</td>\n",
       "    </tr>\n",
       "    <tr>\n",
       "      <th>783</th>\n",
       "      <td>HAIN001_00093</td>\n",
       "      <td>HAIN002_00162</td>\n",
       "      <td>HAIN003_00590</td>\n",
       "      <td>HAIN004_00589</td>\n",
       "      <td>HAIN005_00130</td>\n",
       "      <td>HAIN006_00088</td>\n",
       "      <td>HAIN007_00151</td>\n",
       "      <td>HAIN008_00561</td>\n",
       "      <td>HAIN009_00513</td>\n",
       "      <td>HAIN010_00849</td>\n",
       "    </tr>\n",
       "  </tbody>\n",
       "</table>\n",
       "</div>"
      ],
      "text/plain": [
       "            HAIN001        HAIN002        HAIN003        HAIN004  \\\n",
       "221   HAIN001_00088  HAIN002_00089  HAIN003_00595  HAIN004_00583   \n",
       "783   HAIN001_00093  HAIN002_00162  HAIN003_00590  HAIN004_00589   \n",
       "\n",
       "           HAIN005        HAIN006        HAIN007        HAIN008  \\\n",
       "221  HAIN005_00080  HAIN006_00083  HAIN007_00079  HAIN008_00566   \n",
       "783  HAIN005_00130  HAIN006_00088  HAIN007_00151  HAIN008_00561   \n",
       "\n",
       "           HAIN009        HAIN010  \n",
       "221  HAIN009_00619  HAIN010_00854  \n",
       "783  HAIN009_00513  HAIN010_00849  "
      ]
     },
     "execution_count": 56,
     "metadata": {},
     "output_type": "execute_result"
    }
   ],
   "source": [
    "flanking_core_ID"
   ]
  },
  {
   "cell_type": "markdown",
   "metadata": {},
   "source": [
    "We see that they are all in the same spot, inbetween core genes 221 and 783, and that strain number 9 has been sequenced on the complementary strand or has a synteny breakpoint at that position. Let's eliminate that latter possibility.\n",
    "\n",
    "There is a breakpoint if the two flanking coregenes in the list of core genes are not continguous (in case of a inversion of one of the two coregenes with a third one for instance). Meaning that the difference between their rank is either 1, -1 or the number of coregenes (-1) (to wrap around).   "
   ]
  },
  {
   "cell_type": "markdown",
   "metadata": {},
   "source": [
    "Getting their rank"
   ]
  },
  {
   "cell_type": "code",
   "execution_count": 53,
   "metadata": {
    "collapsed": false
   },
   "outputs": [],
   "source": [
    "order = core.values.argsort(axis=0)\n",
    "ranks = order.argsort(axis=0)"
   ]
  },
  {
   "cell_type": "code",
   "execution_count": 57,
   "metadata": {
    "code_folding": [],
    "collapsed": false
   },
   "outputs": [
    {
     "name": "stdout",
     "output_type": "stream",
     "text": [
      "The ICE HAIN007_typeG_1 is in the spot flanked by coregenes 221 and 783 and there is no breakpoint in any strain\n",
      "The ICE HAIN009_typeG_1 is in the spot flanked by coregenes 783 and 221 and there is no breakpoint in any strain\n",
      "The ICE HAIN002_typeG_1 is in the spot flanked by coregenes 221 and 783 and there is no breakpoint in any strain\n"
     ]
    }
   ],
   "source": [
    "for k,v in flanking_core.iteritems():\n",
    "    \n",
    "    rank_diff = np.abs(np.diff(ranks[[v[0], v[1]]], axis=0)[0])\n",
    "    bkp = np.where((rank_diff!=1) & (rank_diff!=len(core)-1))[0]\n",
    "    if len(bkp)>0:\n",
    "        end_sentence = \"is breakpoint for strain {}\".format(bkp)\n",
    "    else:\n",
    "        end_sentence = \"is no breakpoint in any strain\"\n",
    "    print \"The ICE {} is in the spot flanked by coregenes {} and {} and there {}\".format(k, v[0], v[1], end_sentence)"
   ]
  },
  {
   "cell_type": "markdown",
   "metadata": {},
   "source": [
    "Here there is no breakpoint in any the strains at that spot. In case there is a breakpoint, one should remove the corresponding strain of the analysis. "
   ]
  },
  {
   "cell_type": "markdown",
   "metadata": {},
   "source": [
    "Let's get the information on the relative sequencing orientation so we can normalize the strand position of the genes. We fix the reference with respect to the strain 2 (arbitrary, the first strain with an ICE)"
   ]
  },
  {
   "cell_type": "code",
   "execution_count": 58,
   "metadata": {
    "collapsed": false
   },
   "outputs": [],
   "source": [
    "sequencing_orientation = {i:j for i,j in zip(core.columns, np.median(np.diff(ranks[ranks[:,1].argsort()], axis=0), axis=0))}"
   ]
  },
  {
   "cell_type": "code",
   "execution_count": 59,
   "metadata": {
    "collapsed": false
   },
   "outputs": [
    {
     "data": {
      "text/plain": [
       "{'HAIN001': 1.0,\n",
       " 'HAIN002': 1.0,\n",
       " 'HAIN003': -1.0,\n",
       " 'HAIN004': 1.0,\n",
       " 'HAIN005': -1.0,\n",
       " 'HAIN006': -1.0,\n",
       " 'HAIN007': 1.0,\n",
       " 'HAIN008': -1.0,\n",
       " 'HAIN009': -1.0,\n",
       " 'HAIN010': 1.0}"
      ]
     },
     "execution_count": 59,
     "metadata": {},
     "output_type": "execute_result"
    }
   ],
   "source": [
    "sequencing_orientation"
   ]
  },
  {
   "cell_type": "markdown",
   "metadata": {},
   "source": [
    "So the first two strain and the 7th and 10th are in the same median orientation, other strain will need to be flipped. We took the median orientation so it's not garanteed that it will work, as the ICE might be in a bigger region that have been inversed"
   ]
  },
  {
   "cell_type": "markdown",
   "metadata": {},
   "source": [
    "# Pan-Genome of the spot"
   ]
  },
  {
   "cell_type": "markdown",
   "metadata": {},
   "source": [
    "We now have the 2 flanking core genes. We'll gather all the genes that are in the spot and cluster them with uclust to make gene families."
   ]
  },
  {
   "cell_type": "code",
   "execution_count": 60,
   "metadata": {
    "collapsed": false
   },
   "outputs": [
    {
     "data": {
      "text/plain": [
       "array([221, 783])"
      ]
     },
     "execution_count": 60,
     "metadata": {},
     "output_type": "execute_result"
    }
   ],
   "source": [
    "np.unique(flanking_core.values())"
   ]
  },
  {
   "cell_type": "code",
   "execution_count": 61,
   "metadata": {
    "collapsed": false
   },
   "outputs": [
    {
     "data": {
      "text/html": [
       "<div>\n",
       "<table border=\"1\" class=\"dataframe\">\n",
       "  <thead>\n",
       "    <tr style=\"text-align: right;\">\n",
       "      <th></th>\n",
       "      <th>HAIN001</th>\n",
       "      <th>HAIN002</th>\n",
       "      <th>HAIN003</th>\n",
       "      <th>HAIN004</th>\n",
       "      <th>HAIN005</th>\n",
       "      <th>HAIN006</th>\n",
       "      <th>HAIN007</th>\n",
       "      <th>HAIN008</th>\n",
       "      <th>HAIN009</th>\n",
       "      <th>HAIN010</th>\n",
       "    </tr>\n",
       "  </thead>\n",
       "  <tbody>\n",
       "    <tr>\n",
       "      <th>221</th>\n",
       "      <td>HAIN001_00088</td>\n",
       "      <td>HAIN002_00089</td>\n",
       "      <td>HAIN003_00595</td>\n",
       "      <td>HAIN004_00583</td>\n",
       "      <td>HAIN005_00080</td>\n",
       "      <td>HAIN006_00083</td>\n",
       "      <td>HAIN007_00079</td>\n",
       "      <td>HAIN008_00566</td>\n",
       "      <td>HAIN009_00619</td>\n",
       "      <td>HAIN010_00854</td>\n",
       "    </tr>\n",
       "    <tr>\n",
       "      <th>783</th>\n",
       "      <td>HAIN001_00093</td>\n",
       "      <td>HAIN002_00162</td>\n",
       "      <td>HAIN003_00590</td>\n",
       "      <td>HAIN004_00589</td>\n",
       "      <td>HAIN005_00130</td>\n",
       "      <td>HAIN006_00088</td>\n",
       "      <td>HAIN007_00151</td>\n",
       "      <td>HAIN008_00561</td>\n",
       "      <td>HAIN009_00513</td>\n",
       "      <td>HAIN010_00849</td>\n",
       "    </tr>\n",
       "  </tbody>\n",
       "</table>\n",
       "</div>"
      ],
      "text/plain": [
       "            HAIN001        HAIN002        HAIN003        HAIN004  \\\n",
       "221   HAIN001_00088  HAIN002_00089  HAIN003_00595  HAIN004_00583   \n",
       "783   HAIN001_00093  HAIN002_00162  HAIN003_00590  HAIN004_00589   \n",
       "\n",
       "           HAIN005        HAIN006        HAIN007        HAIN008  \\\n",
       "221  HAIN005_00080  HAIN006_00083  HAIN007_00079  HAIN008_00566   \n",
       "783  HAIN005_00130  HAIN006_00088  HAIN007_00151  HAIN008_00561   \n",
       "\n",
       "           HAIN009        HAIN010  \n",
       "221  HAIN009_00619  HAIN010_00854  \n",
       "783  HAIN009_00513  HAIN010_00849  "
      ]
     },
     "execution_count": 61,
     "metadata": {},
     "output_type": "execute_result"
    }
   ],
   "source": [
    "good_core = core.loc[np.unique(flanking_core.values())]\n",
    "good_core"
   ]
  },
  {
   "cell_type": "markdown",
   "metadata": {},
   "source": [
    "Make list of gene for each interval "
   ]
  },
  {
   "cell_type": "code",
   "execution_count": 62,
   "metadata": {
    "collapsed": false
   },
   "outputs": [],
   "source": [
    "mkdir Spots"
   ]
  },
  {
   "cell_type": "code",
   "execution_count": 63,
   "metadata": {
    "collapsed": false
   },
   "outputs": [],
   "source": [
    "for strain in good_core.columns:\n",
    "    i = [v.strip() for v in good_core[strain].values]\n",
    "    f,l = int(i[0][-5:]), int(i[1][-5:])\n",
    "    s = SeqIO.index(\"Sequences/Annotations/{strain}/{strain}.faa\".format(strain=strain), \"fasta\")\n",
    "    seqs = [s.get(\"{}{:05d}\".format(i[0][:8], j)) for j in range(min(f,l), max(f,l)+1)]\n",
    "    SeqIO.write([seq for seq in seqs if seq is not None],\n",
    "                \"Spots/{}_spot.faa\".format(strain),\n",
    "                \"fasta\")"
   ]
  },
  {
   "cell_type": "markdown",
   "metadata": {},
   "source": [
    "Here we only have 1 spot, but one should keep track of the spots"
   ]
  },
  {
   "cell_type": "code",
   "execution_count": 64,
   "metadata": {
    "collapsed": false
   },
   "outputs": [
    {
     "name": "stdout",
     "output_type": "stream",
     "text": [
      "Spots/HAIN001_spot.faa:2\r\n",
      "Spots/HAIN002_spot.faa:70\r\n",
      "Spots/HAIN003_spot.faa:2\r\n",
      "Spots/HAIN004_spot.faa:3\r\n",
      "Spots/HAIN005_spot.faa:46\r\n",
      "Spots/HAIN006_spot.faa:2\r\n",
      "Spots/HAIN007_spot.faa:69\r\n",
      "Spots/HAIN008_spot.faa:2\r\n",
      "Spots/HAIN009_spot.faa:102\r\n",
      "Spots/HAIN010_spot.faa:2\r\n"
     ]
    }
   ],
   "source": [
    "!grep -c \">\" Spots/*faa"
   ]
  },
  {
   "cell_type": "code",
   "execution_count": 65,
   "metadata": {
    "collapsed": true
   },
   "outputs": [],
   "source": [
    "!cat Spots/*faa > Spots/All_prot_spot.prt"
   ]
  },
  {
   "cell_type": "code",
   "execution_count": 66,
   "metadata": {
    "collapsed": true
   },
   "outputs": [],
   "source": [
    "mkdir Spots/Clusters"
   ]
  },
  {
   "cell_type": "code",
   "execution_count": 67,
   "metadata": {
    "collapsed": false
   },
   "outputs": [],
   "source": [
    "!usearch -quiet -cluster_fast Spots/All_prot_spot.prt \\\n",
    "         -id 0.7\\\n",
    "         -centroids Spots/All_prot_spot-70.fasta \\\n",
    "         -uc Spots/All_prot_spot-70.uc > Spots/log_usearch\n"
   ]
  },
  {
   "cell_type": "code",
   "execution_count": 68,
   "metadata": {
    "collapsed": true
   },
   "outputs": [],
   "source": [
    "cluster = pd.read_table(\"Spots/All_prot_spot-70.uc\", header=None)"
   ]
  },
  {
   "cell_type": "code",
   "execution_count": 69,
   "metadata": {
    "collapsed": false
   },
   "outputs": [],
   "source": [
    "families = cluster[cluster[0]!=\"C\"].groupby(1)[8].apply(lambda x: sorted(x)).values"
   ]
  },
  {
   "cell_type": "code",
   "execution_count": 70,
   "metadata": {
    "collapsed": false,
    "scrolled": false
   },
   "outputs": [],
   "source": [
    "fam = pd.DataFrame([sorted(f) for f in families])"
   ]
  },
  {
   "cell_type": "code",
   "execution_count": 72,
   "metadata": {
    "collapsed": false
   },
   "outputs": [],
   "source": [
    "fam.sort_values(by=fam.columns.tolist(), inplace=1)\n",
    "fam.sort_values(by=fam.index.tolist(), axis=1, inplace=1)"
   ]
  },
  {
   "cell_type": "markdown",
   "metadata": {},
   "source": [
    "# Format data to plot \n",
    "\n",
    "We use and old script I wrote which is quite ugly to read, but works. You can find it here: [spot_ICE](https://gitlab.pasteur.fr/gem/spot_ICE)\n",
    "\n",
    "The advantage is that it produces an interactive plot ot the spot, but the drawback is that the input format is a bit weird. Let's get through\n"
   ]
  },
  {
   "cell_type": "code",
   "execution_count": 74,
   "metadata": {
    "collapsed": true
   },
   "outputs": [],
   "source": [
    "from Bio import SeqUtils"
   ]
  },
  {
   "cell_type": "markdown",
   "metadata": {},
   "source": [
    "The input file of the script looks like:\n",
    "\n",
    "    #header\n",
    "    \\n\n",
    "    ICE_ID\n",
    "    genome1&2 genome2&2 genome3&50 genome4&2 #list of genome ID with the number of gene in between the 2 core genes (included)\n",
    "    <Table with genes from the genomes with the ICE in columns, see below for description>\n",
    "    0.4 0.45 0.43 .... #GC% values along the spot.\n",
    "    \\n\n",
    "Where the table has the following columns:\n",
    "\n",
    "|Column|description|Value| Comment|\n",
    "|-:|:-|:-|:-:|\n",
    "|1| Gene_id | String ||\n",
    "|2| Annotation| String ||\n",
    "|3| Start| Integer ||\n",
    "|4| End| Integer||\n",
    "|5| Gene orientation | 1/- 1||\n",
    "|6| Replicon orientation | 1/-1 | compare to the other genome of the species, is this replicon sequenced on the same strand or not ? (same average orientation of the core genes)|\n",
    "|7| Normalized orientation | (Gene orientation * Replicon orientation)||\n",
    "|8| Gene size| Integer||\n",
    "|9| MPF profile | MOBH/G_tfc23/...| if the gene is matched by macsyfinder, which profile matched ?|\n",
    "|10| Integrase_type | Tyr_rec | if the gene is matched by tyrosine or serine recombinase profiles|\n",
    "|11| Gene families | HAIN002_00160&HAIN009_00555 | genes in other genome of the species that are homologous.|\n",
    "|12| RNA |tRNA&tRNA-Lys&143658&143734&1 | RFAM hits, in the line of the closest gene, and formatted as: RNA_type&RFAM_number&start&end&strand|\n",
    "\n",
    "In any case, if there is not value, it must be a 0"
   ]
  },
  {
   "cell_type": "code",
   "execution_count": 75,
   "metadata": {
    "collapsed": false
   },
   "outputs": [
    {
     "name": "stdout",
     "output_type": "stream",
     "text": [
      "Done\n"
     ]
    }
   ],
   "source": [
    "with open(\"All_data_hain.txt\", \"w\") as outf:\n",
    "    outf.write(\"#Annotation\\tgene_name\\tStart\\tEnd\\tStrand\\tStrand_replicon\\tStrand_norm\\tSize\\tGene\\tIntegrase\\tgene_fam\\tRNA\\n\\n\") # Header optional, could be an empty line\n",
    "\n",
    "    for sys_ID in conj.System_Id.unique():\n",
    "        df_sys_ID = pd.DataFrame(columns=fam.columns[:-1])\n",
    "        strain = sys_ID.split(\"_\")[0]\n",
    "        for f in fam.iterrows():\n",
    "            try:\n",
    "                idx = f[1][f[1].str.contains(strain, na=False)].index\n",
    "                df_sys_ID.loc[f[1][idx[0]]] = f[1][f[1].index.isin(idx)==0].values\n",
    "            except IndexError:\n",
    "                pass\n",
    "        df_sys_ID.sort_index(inplace=1)\n",
    "        # spot_size is like: ['HAIN001&2', 'HAIN002&70', 'HAIN003&2', 'HAIN004&3', 'HAIN005&46', ...]\n",
    "        spot_size = [\"&\".join((m, str(n))) for m,n in pd.Series([i.split(\"_\")[0].strip() for i in fam.values.ravel() if isinstance(i, str)]).value_counts().sort_index().iteritems()]\n",
    "\n",
    "        gbk = SeqIO.read(\"Sequences/Annotations/{strain}/{strain}.gbk\".format(strain=strain), \"genbank\")\n",
    "\n",
    "        final = pd.DataFrame(columns=[\"Annotation\", \"gene_name\", \"Start\", \"End\", \"Strand\"])\n",
    "        for feat in gbk.features[1:]:\n",
    "            if min(flanking_core_ID[strain]) <= feat.qualifiers[\"locus_tag\"][0] <= max(flanking_core_ID[strain]):\n",
    "                if \"gene\" in feat.qualifiers:\n",
    "                    gene_name = feat.qualifiers[\"gene\"][0]\n",
    "                elif feat.type==\"tRNA\":\n",
    "                    gene_name = feat.qualifiers[\"note\"][0]\n",
    "                else:\n",
    "                    gene_name = \"HP\"\n",
    "                final.loc[feat.qualifiers[\"locus_tag\"][0]] = feat.qualifiers[\"product\"][0], gene_name, feat.location.start, feat.location.end, feat.location.strand\n",
    "\n",
    "        final[\"Strand_replicon\"] = sequencing_orientation[strain]\n",
    "        final[\"Strand_norm\"] = final.Strand*final.Strand_replicon\n",
    "        final[\"Size\"] = final.End - final.Start + 1\n",
    "        final = final.merge(conj.set_index(\"#Hit_Id\")[[\"Gene\"]], left_index=True, right_index=True, how=\"left\")\n",
    "        final[\"Integrase\"] = np.nan # If you detected integrases you can put something else than Nan or 0 in front of the corresponding gene.\n",
    "        gene_fams = df_sys_ID.apply(lambda x: \"&\".join(x.dropna()), axis=1).replace(\"\", \"0\")\n",
    "        # gene_fams is like:\n",
    "        # HAIN002_00089    HAIN001_00088&HAIN003_00595&HAIN004_00583&HAIN...\n",
    "        # HAIN002_00093                          HAIN007_00083&HAIN009_00615\n",
    "        # HAIN002_00094                          HAIN007_00084&HAIN009_00614\n",
    "        # HAIN002_00095                          HAIN007_00085&HAIN009_00613\n",
    "        # HAIN002_00096                          HAIN007_00086&HAIN009_00612\n",
    "        final = final.merge(gene_fams.to_frame(name=\"gene_fam\"), left_index=True, right_index=True, how='left')\n",
    "        final[\"RNA\"] = final.apply(lambda x: \"&\".join((\"tRNA\",\n",
    "                                                       x[\"Annotation\"],\n",
    "                                                       str(int(x[\"Start\"])),\n",
    "                                                       str(int(x[\"End\"])),\n",
    "                                                       str(int(x[\"Strand_norm\"])))) if \"tRNA\" in x[\"Annotation\"] else np.nan, axis=1)\n",
    "\n",
    "        final.fillna(0, inplace=1)\n",
    "        final[final.select_dtypes([float]).columns] = final.select_dtypes([float]).astype(int, inplace=1) \n",
    "        GC = [SeqUtils.GC(gbk.seq[final.Start[0]:final.End[-1]][i:i+1000]) for i in range(0, final.End[-1]-final.Start[0]+1, 1000)]\n",
    "        outf.write(sys_ID+\"\\n\")\n",
    "        outf.write(\" \".join(spot_size)+\"\\n\")\n",
    "        final.to_csv(outf, header=None, sep=\"\\t\")\n",
    "        outf.write(\" \".join(map(str, GC))+\"\\n\\n\")\n",
    "print \"Done\""
   ]
  },
  {
   "cell_type": "markdown",
   "metadata": {},
   "source": [
    "# Plot the spot\n",
    "\n",
    "Once you downloaded the script provided earlier, just type (in a terminal preferably, and ***not*** in a interactive python environnenment (note the *!* at the beginning of the line, call a shell)\n",
    "\n",
    "The window can be clicked:\n",
    "\n",
    "- left click on gene: print information for that genes\n",
    "- left click on any x-axis: erase all gene informations\n",
    "- right click on 2 genes in the same ICE: select the gene as a first and last genes delimiting the ICE\n",
    "- shift + right-click: remove the selected genes in the corresponding ICE.\n",
    "    - Beware to click 2 times in the same ICE otherwise the limits will be mixed between ICEs (in case of odd number of right-clicks).\n",
    "    - If you click 4 times in the same ICE, it will define 2 ICEs in tandem. (Or any even number of right click will define half as many ICE)\n",
    "- The spot are plotted 4 at a times, and the window close every 4. You can increase this number in the script if you have a big enough screen. \n",
    "- You can export an ICE in its spot that you'd like by ticking the box on the right (weird rectangles) and click export. It will create a file `Selection...` that you can re-use. You could easily merge 2 exported files from different window. "
   ]
  },
  {
   "cell_type": "code",
   "execution_count": 77,
   "metadata": {
    "collapsed": false
   },
   "outputs": [],
   "source": [
    "!../ICE_plot/plot_ICE_spot.py All_data_hain.txt"
   ]
  },
  {
   "cell_type": "markdown",
   "metadata": {},
   "source": [
    "Here is a screenshot, obtained with this entire pipeline:\n",
    "<img src=\"Screenshot_spot_ICE.png\" alt=\"spot_ICE\" style=\"width: 75%;\"/>\n"
   ]
  },
  {
   "cell_type": "code",
   "execution_count": 78,
   "metadata": {
    "collapsed": false
   },
   "outputs": [
    {
     "name": "stdout",
     "output_type": "stream",
     "text": [
      "All_data_hain.txt         LOG_roary                 \u001b[34mSpots\u001b[m\u001b[m/\r\n",
      "Conj_results              Limits_All_data_hain.txt  core_genome.txt\r\n",
      "\u001b[34mConjugation\u001b[m\u001b[m/              \u001b[34mOLD\u001b[m\u001b[m/                      core_genome_2.txt\r\n",
      "Delimit_ICE.ipynb         Screenshot_spot_ICE.png\r\n",
      "LOG_prokka                \u001b[34mSequences\u001b[m\u001b[m/\r\n"
     ]
    }
   ],
   "source": [
    "ls"
   ]
  },
  {
   "cell_type": "code",
   "execution_count": 79,
   "metadata": {
    "collapsed": false
   },
   "outputs": [
    {
     "name": "stdout",
     "output_type": "stream",
     "text": [
      "ICE_ID\tfirst_gene\tlast_gene\r\n",
      "HAIN002_typeG_1\tHAIN002_00093\tHAIN002_00160\r\n",
      "HAIN007_typeG_1\tHAIN007_00083\tHAIN007_00149\r\n",
      "HAIN009_typeG_1\tHAIN009_00515\tHAIN009_00615\r\n"
     ]
    }
   ],
   "source": [
    "!head Limits_All_data_hain.txt"
   ]
  },
  {
   "cell_type": "code",
   "execution_count": null,
   "metadata": {
    "collapsed": true
   },
   "outputs": [],
   "source": []
  }
 ],
 "metadata": {
  "hide_input": false,
  "kernelspec": {
   "display_name": "Python 2",
   "language": "python",
   "name": "python2"
  },
  "language_info": {
   "codemirror_mode": {
    "name": "ipython",
    "version": 2
   },
   "file_extension": ".py",
   "mimetype": "text/x-python",
   "name": "python",
   "nbconvert_exporter": "python",
   "pygments_lexer": "ipython2",
   "version": "2.7.6"
  },
  "toc": {
   "toc_cell": false,
   "toc_number_sections": true,
   "toc_section_display": "block",
   "toc_threshold": 6,
   "toc_window_display": true
  }
 },
 "nbformat": 4,
 "nbformat_minor": 2
}
